{
 "cells": [
  {
   "cell_type": "markdown",
   "id": "9623eb63",
   "metadata": {},
   "source": [
    "# \"Data Science Tools and Ecosystem\"\n",
    "\n",
    "In this notebook, Data Science Tools and Ecosystem are summarized.\n",
    "\n",
    "__Objectives__\n",
    "- List popular languages for data science\n",
    "- Cloud based tools for data science\n",
    "- The model Asset eXchange\n",
    "- Machine Learning Models - Learning from Models to Make Predictions\n",
    "- Plotting in R Studio\n",
    "\n",
    "Some of the popular languages that Data Scientists use are:\n",
    "1. Python\n",
    "2. R\n",
    "3. SQL\n",
    "\n",
    "Some of the popular libraries that Data Scientists use are:\n",
    "1. pandas\n",
    "2. matplotlin\n",
    "3. Tensorflow\n",
    "\n",
    "|Data Science Tools|\n",
    "|-------------------|\n",
    "|Jupyter|\n",
    "|Google Cloud|\n",
    "|Git Hub|\n"
   ]
  },
  {
   "cell_type": "markdown",
   "id": "ca63e35e",
   "metadata": {},
   "source": [
    "### Below are a few examples of evaluating arithmetic expressions in Python"
   ]
  },
  {
   "cell_type": "code",
   "execution_count": 1,
   "id": "efd70a63",
   "metadata": {},
   "outputs": [
    {
     "data": {
      "text/plain": [
       "17"
      ]
     },
     "execution_count": 1,
     "metadata": {},
     "output_type": "execute_result"
    }
   ],
   "source": [
    "# This is a simple arithmetic expression to multiply then add integers\n",
    "(3*4)+5"
   ]
  },
  {
   "cell_type": "code",
   "execution_count": 2,
   "id": "5f57d109",
   "metadata": {},
   "outputs": [
    {
     "data": {
      "text/plain": [
       "3.3333333333333335"
      ]
     },
     "execution_count": 2,
     "metadata": {},
     "output_type": "execute_result"
    }
   ],
   "source": [
    "# This will convert 200 minutes to hours by dividing 60\n",
    "200/60"
   ]
  },
  {
   "cell_type": "markdown",
   "id": "21812622",
   "metadata": {},
   "source": [
    "## Author\n",
    "\n",
    "Joseph Burton"
   ]
  },
  {
   "cell_type": "code",
   "execution_count": null,
   "id": "fdeb314a",
   "metadata": {},
   "outputs": [],
   "source": []
  }
 ],
 "metadata": {
  "kernelspec": {
   "display_name": "Python 3 (ipykernel)",
   "language": "python",
   "name": "python3"
  },
  "language_info": {
   "codemirror_mode": {
    "name": "ipython",
    "version": 3
   },
   "file_extension": ".py",
   "mimetype": "text/x-python",
   "name": "python",
   "nbconvert_exporter": "python",
   "pygments_lexer": "ipython3",
   "version": "3.11.4"
  }
 },
 "nbformat": 4,
 "nbformat_minor": 5
}
